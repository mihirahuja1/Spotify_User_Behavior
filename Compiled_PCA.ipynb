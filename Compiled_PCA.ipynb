{
  "nbformat": 4,
  "nbformat_minor": 0,
  "metadata": {
    "colab": {
      "name": "Compiled-PCA.ipynb",
      "provenance": [],
      "mount_file_id": "15RhZfEpjilJGU0L_p2VLsPP0d-mrGUhw",
      "authorship_tag": "ABX9TyMh4Ad7XhjbJituFuALRiCe",
      "include_colab_link": true
    },
    "kernelspec": {
      "name": "python3",
      "display_name": "Python 3"
    }
  },
  "cells": [
    {
      "cell_type": "markdown",
      "metadata": {
        "id": "view-in-github",
        "colab_type": "text"
      },
      "source": [
        "<a href=\"https://colab.research.google.com/github/mihirahuja1/Spotify_User_Behavior/blob/master/Compiled_PCA.ipynb\" target=\"_parent\"><img src=\"https://colab.research.google.com/assets/colab-badge.svg\" alt=\"Open In Colab\"/></a>"
      ]
    },
    {
      "cell_type": "code",
      "metadata": {
        "id": "fv8y5hMj1a_n",
        "colab_type": "code",
        "colab": {
          "base_uri": "https://localhost:8080/",
          "height": 136
        },
        "outputId": "c9483b26-340c-49f0-f299-4837e566c78a"
      },
      "source": [
        "import pandas as pd\n",
        "import numpy as np\n",
        "!pip install spotipy\n",
        "import spotipy\n",
        "from spotipy.oauth2 import SpotifyClientCredentials\n",
        "\n",
        "from sklearn import preprocessing\n",
        "from sklearn.decomposition import PCA\n",
        "import matplotlib.pyplot as plt\n",
        "import matplotlib.cm as cm\n",
        "import plotly.express as px"
      ],
      "execution_count": 28,
      "outputs": [
        {
          "output_type": "stream",
          "text": [
            "Requirement already satisfied: spotipy in /usr/local/lib/python3.6/dist-packages (2.13.0)\n",
            "Requirement already satisfied: six>=1.10.0 in /usr/local/lib/python3.6/dist-packages (from spotipy) (1.12.0)\n",
            "Requirement already satisfied: requests>=2.20.0 in /usr/local/lib/python3.6/dist-packages (from spotipy) (2.23.0)\n",
            "Requirement already satisfied: chardet<4,>=3.0.2 in /usr/local/lib/python3.6/dist-packages (from requests>=2.20.0->spotipy) (3.0.4)\n",
            "Requirement already satisfied: idna<3,>=2.5 in /usr/local/lib/python3.6/dist-packages (from requests>=2.20.0->spotipy) (2.9)\n",
            "Requirement already satisfied: urllib3!=1.25.0,!=1.25.1,<1.26,>=1.21.1 in /usr/local/lib/python3.6/dist-packages (from requests>=2.20.0->spotipy) (1.24.3)\n",
            "Requirement already satisfied: certifi>=2017.4.17 in /usr/local/lib/python3.6/dist-packages (from requests>=2.20.0->spotipy) (2020.6.20)\n"
          ],
          "name": "stdout"
        }
      ]
    },
    {
      "cell_type": "code",
      "metadata": {
        "id": "IgYMUbkZ2T5H",
        "colab_type": "code",
        "colab": {}
      },
      "source": [
        "cid= 'CleintID'\n",
        "secret= 'Secret'"
      ],
      "execution_count": 2,
      "outputs": []
    },
    {
      "cell_type": "code",
      "metadata": {
        "id": "2jbZ_eHq2XDo",
        "colab_type": "code",
        "colab": {}
      },
      "source": [
        "\n",
        "client_credentials_manager = SpotifyClientCredentials(client_id=cid, client_secret=secret)\n",
        "sp = spotipy.Spotify(client_credentials_manager\n",
        "=\n",
        "client_credentials_manager)"
      ],
      "execution_count": 3,
      "outputs": []
    },
    {
      "cell_type": "code",
      "metadata": {
        "id": "DPNIZvCgp2Aw",
        "colab_type": "code",
        "colab": {}
      },
      "source": [
        "username = 'USER_NAME'\n",
        "pl_id = 'spotify:playlist:PLAYLIST_ID'\n",
        "personaility = 'UNK'"
      ],
      "execution_count": 128,
      "outputs": []
    },
    {
      "cell_type": "code",
      "metadata": {
        "id": "5gVzviDY2YK8",
        "colab_type": "code",
        "colab": {
          "base_uri": "https://localhost:8080/",
          "height": 581
        },
        "outputId": "3a2c4124-6845-40b0-fb42-d7c619e9f0aa"
      },
      "source": [
        "#sp = spotipy.Spotify(client_credentials_manager=SpotifyClientCredentials())\n",
        "#https://open.spotify.com/playlist/37i9dQZF1EpvrG9jgVuHrm?si=lq2F9s-tRVaDAZx-3KGSbA\n",
        "\n",
        "offset = 0\n",
        "track_ids = []\n",
        "while True:\n",
        "    response = sp.playlist_tracks(pl_id,\n",
        "                                  offset=offset,\n",
        "                                  fields='items.track.id,total')\n",
        "    track_ids.append(response['items'])\n",
        "    print(response['items'])\n",
        "    offset = offset + len(response['items'])\n",
        "    #print(offset, \"/\", response['total'])\n",
        "\n",
        "    if len(response['items']) == 0:\n",
        "        break\n",
        "def get_track_info(track_uri):\n",
        "  track_info = sp.track(track_uri)\n",
        "  artist_name = track_info['album']['artists'][0]['name']\n",
        "  track_name = track_info['name']\n",
        "  return track_name\n",
        "song_df = pd.DataFrame()\n",
        "list_of_songs = []\n",
        "for i in range(0,len(track_ids[0])):\n",
        "  print(track_ids[0][i]['track']['id'])\n",
        "  list_of_songs.append(track_ids[0][i]['track']['id'])\n",
        "songs_df = pd.DataFrame(list_of_songs,columns=['Track_URI'])\n",
        "main_df = pd.DataFrame()\n",
        "cnt=0\n",
        "\n",
        "def create_audio_features_df(song):\n",
        "  global cnt\n",
        "  global main_df\n",
        "  d = sp.audio_features(song)[0]\n",
        "  new_df = pd.DataFrame(d.values())\n",
        "  new_df = new_df.transpose()\n",
        "  #print(new_df)\n",
        "  if cnt == 0:\n",
        "    main_df = new_df\n",
        "  else:\n",
        "    #print('here')\n",
        "    x = pd.concat([main_df, new_df], ignore_index=True)\n",
        "    main_df = x\n",
        "  cnt+=1\n",
        "  #return main_df\n",
        "songs_df['Track_URI'].apply(lambda x: create_audio_features_df(x)) \n",
        "main_df.columns\n",
        "main_df.columns = main_df.columns.astype(str)\n",
        "main_df= main_df[['0','1','2','3','4','5','6','7','8','9','10']]\n",
        "main_df.columns = ['danceability', 'energy','key','loudness','mode','speechiness','acousticness','instrumentalness','liveness','valence','tempo']\n",
        "songs_df = pd.concat([songs_df, main_df], axis=1)\n",
        "songs_df['Track_Name'] = songs_df['Track_URI'].apply(lambda x: get_track_info(x))\n",
        "fullpath = \"drive/My Drive/SpotifyDS/songs_audio_features_\"+str(username) + \".csv\"\n",
        "songs_df.to_csv(fullpath)"
      ],
      "execution_count": 129,
      "outputs": [
        {
          "output_type": "stream",
          "text": [
            "[{'track': {'id': '62aP9fBQKYKxi7PDXwcUAS'}}, {'track': {'id': '5v4GgrXPMghOnBBLmveLac'}}, {'track': {'id': '2qzUpSVI4NnPyWxbXwumTj'}}, {'track': {'id': '4HBZA5flZLE435QTztThqH'}}, {'track': {'id': '2A9rFFPwsnhusCh8ZMBvYY'}}, {'track': {'id': '66dQdXAbtuPdSasezCQVZE'}}, {'track': {'id': '3f3cliOygeuUpGRwdohy12'}}, {'track': {'id': '5oZps6mYqU5s7A4WjUZggJ'}}, {'track': {'id': '72794Eag03xdy7TO0KNuid'}}, {'track': {'id': '0EA2RhRHL4KWeNa7JfD1Yw'}}, {'track': {'id': '4CPszpSnlbgnQLIQYyzIR2'}}, {'track': {'id': '3R9RSIkgkZXrIgmBHGemlV'}}, {'track': {'id': '59iNA6gwthoTJ6IgpBGGHW'}}, {'track': {'id': '4gT3mNJA8lnlkYFqGZ8IA2'}}, {'track': {'id': '2Xcvt8NRLw0xbB3ClfW8MI'}}, {'track': {'id': '0Ryd8975WihbObpp5cPW1t'}}, {'track': {'id': '6BvtitRX5lQC87YlA6rq0n'}}, {'track': {'id': '3lB0GMiI5KxDbTOG8V3bOx'}}, {'track': {'id': '62ljuuXo0zrcrtJnnOhfxT'}}, {'track': {'id': '4jAIqgrPjKLTY9Gbez25Qb'}}, {'track': {'id': '017PF4Q3l4DBUiWoXk4OWT'}}, {'track': {'id': '3HAgxyWGeJtIVabS2mTREt'}}, {'track': {'id': '4S4Mfvv03M1cHgIOJcbUCL'}}, {'track': {'id': '2gIIIdxv1nEZX8mH928HMJ'}}, {'track': {'id': '2qu3LWIoqG4pnOKjLXTjjY'}}, {'track': {'id': '1DWZUa5Mzf2BwzpHtgbHPY'}}, {'track': {'id': '19YKaevk2bce4odJkP5L22'}}, {'track': {'id': '6WmIyn2fx1PKQ0XDpYj4VR'}}, {'track': {'id': '5jyyPsIGM2yqkZN9R3TmvN'}}, {'track': {'id': '127QTOFJsJQp5LbJbu3A1y'}}]\n",
            "[]\n",
            "62aP9fBQKYKxi7PDXwcUAS\n",
            "5v4GgrXPMghOnBBLmveLac\n",
            "2qzUpSVI4NnPyWxbXwumTj\n",
            "4HBZA5flZLE435QTztThqH\n",
            "2A9rFFPwsnhusCh8ZMBvYY\n",
            "66dQdXAbtuPdSasezCQVZE\n",
            "3f3cliOygeuUpGRwdohy12\n",
            "5oZps6mYqU5s7A4WjUZggJ\n",
            "72794Eag03xdy7TO0KNuid\n",
            "0EA2RhRHL4KWeNa7JfD1Yw\n",
            "4CPszpSnlbgnQLIQYyzIR2\n",
            "3R9RSIkgkZXrIgmBHGemlV\n",
            "59iNA6gwthoTJ6IgpBGGHW\n",
            "4gT3mNJA8lnlkYFqGZ8IA2\n",
            "2Xcvt8NRLw0xbB3ClfW8MI\n",
            "0Ryd8975WihbObpp5cPW1t\n",
            "6BvtitRX5lQC87YlA6rq0n\n",
            "3lB0GMiI5KxDbTOG8V3bOx\n",
            "62ljuuXo0zrcrtJnnOhfxT\n",
            "4jAIqgrPjKLTY9Gbez25Qb\n",
            "017PF4Q3l4DBUiWoXk4OWT\n",
            "3HAgxyWGeJtIVabS2mTREt\n",
            "4S4Mfvv03M1cHgIOJcbUCL\n",
            "2gIIIdxv1nEZX8mH928HMJ\n",
            "2qu3LWIoqG4pnOKjLXTjjY\n",
            "1DWZUa5Mzf2BwzpHtgbHPY\n",
            "19YKaevk2bce4odJkP5L22\n",
            "6WmIyn2fx1PKQ0XDpYj4VR\n",
            "5jyyPsIGM2yqkZN9R3TmvN\n",
            "127QTOFJsJQp5LbJbu3A1y\n"
          ],
          "name": "stdout"
        }
      ]
    },
    {
      "cell_type": "markdown",
      "metadata": {
        "id": "1XDR7XJk_v3L",
        "colab_type": "text"
      },
      "source": [
        "# PCA"
      ]
    },
    {
      "cell_type": "markdown",
      "metadata": {
        "id": "eTpo9s8S_ywa",
        "colab_type": "text"
      },
      "source": [
        "## Getting information for base user\n",
        "## Applying normalization and PCA"
      ]
    },
    {
      "cell_type": "code",
      "metadata": {
        "id": "QjjcongR4A_q",
        "colab_type": "code",
        "colab": {}
      },
      "source": [
        "original_base_user = pd.read_csv('drive/My Drive/SpotifyDS/songs_audio_features.csv')\n",
        "original_base_audio_information = original_base_user[['danceability',\t'energy',\t'key','loudness',\t'mode','speechiness',\t'acousticness',\t'instrumentalness',\t'liveness',\t'valence',\t'tempo']]\n",
        "min_max_scaler = preprocessing.MinMaxScaler()\n",
        "x_scaled = min_max_scaler.fit_transform(original_base_audio_information)\n",
        "original_base_audio_information = pd.DataFrame(x_scaled)\n",
        "pca = PCA(n_components=2)#To be run for original scalar\n",
        "pct = pca.fit_transform(original_base_audio_information)\n"
      ],
      "execution_count": 130,
      "outputs": []
    },
    {
      "cell_type": "code",
      "metadata": {
        "id": "cBjl5vT3_-an",
        "colab_type": "code",
        "colab": {}
      },
      "source": [
        "songs_audio_information = pd.read_csv('drive/My Drive/SpotifyDS/songs_audio_features_USERNAME.csv')"
      ],
      "execution_count": 131,
      "outputs": []
    },
    {
      "cell_type": "code",
      "metadata": {
        "id": "Rq0VoR5kAA7b",
        "colab_type": "code",
        "colab": {}
      },
      "source": [
        "audio_information = songs_audio_information[['danceability',\t'energy',\t'key','loudness',\t'mode','speechiness',\t'acousticness',\t'instrumentalness',\t'liveness',\t'valence',\t'tempo']]\n",
        "#min_max_scaler = preprocessing.MinMaxScaler()\n",
        "x_scaled = min_max_scaler.transform(audio_information)\n",
        "audio_information = pd.DataFrame(x_scaled)"
      ],
      "execution_count": 132,
      "outputs": []
    },
    {
      "cell_type": "code",
      "metadata": {
        "id": "F3CTXDWlAJJ0",
        "colab_type": "code",
        "colab": {}
      },
      "source": [
        "pct = pca.transform(audio_information)\n",
        "principal_df = pd.DataFrame(pct,columns=['pc1','pc2'])\n",
        "finaldf = pd.concat([principal_df,songs_audio_information['Track_Name']],axis=1)\n"
      ],
      "execution_count": 133,
      "outputs": []
    },
    {
      "cell_type": "code",
      "metadata": {
        "id": "0YvLRGxZALnV",
        "colab_type": "code",
        "colab": {
          "base_uri": "https://localhost:8080/",
          "height": 542
        },
        "outputId": "5b41c7b8-248e-403c-c0b6-192994af76e3"
      },
      "source": [
        "#df = px.data.iris()\n",
        "fig = px.scatter(finaldf, x=\"pc1\", y=\"pc2\", color=\"Track_Name\"\n",
        "                 , hover_data=['Track_Name'])\n",
        "fig.show()"
      ],
      "execution_count": 134,
      "outputs": [
        {
          "output_type": "display_data",
          "data": {
            "text/html": [
              "<html>\n",
              "<head><meta charset=\"utf-8\" /></head>\n",
              "<body>\n",
              "    <div>\n",
              "            <script src=\"https://cdnjs.cloudflare.com/ajax/libs/mathjax/2.7.5/MathJax.js?config=TeX-AMS-MML_SVG\"></script><script type=\"text/javascript\">if (window.MathJax) {MathJax.Hub.Config({SVG: {font: \"STIX-Web\"}});}</script>\n",
              "                <script type=\"text/javascript\">window.PlotlyConfig = {MathJaxConfig: 'local'};</script>\n",
              "        <script src=\"https://cdn.plot.ly/plotly-latest.min.js\"></script>    \n",
              "            <div id=\"009a3f13-362d-43f5-b0c4-d3b7505c1ef0\" class=\"plotly-graph-div\" style=\"height:525px; width:100%;\"></div>\n",
              "            <script type=\"text/javascript\">\n",
              "                \n",
              "                    window.PLOTLYENV=window.PLOTLYENV || {};\n",
              "                    \n",
              "                if (document.getElementById(\"009a3f13-362d-43f5-b0c4-d3b7505c1ef0\")) {\n",
              "                    Plotly.newPlot(\n",
              "                        '009a3f13-362d-43f5-b0c4-d3b7505c1ef0',\n",
              "                        [{\"customdata\": [[\"ily (i love you baby) (feat. Emilee)\"]], \"hoverlabel\": {\"namelength\": 0}, \"hovertemplate\": \"Track_Name=%{customdata[0]}<br>pc1=%{x}<br>pc2=%{y}\", \"legendgroup\": \"Track_Name=ily (i love you baby) (feat. Emilee)\", \"marker\": {\"color\": \"#636efa\", \"symbol\": \"circle\"}, \"mode\": \"markers\", \"name\": \"Track_Name=ily (i love you baby) (feat. Emilee)\", \"showlegend\": true, \"type\": \"scatter\", \"x\": [-0.12884287947979473], \"xaxis\": \"x\", \"y\": [-0.9261813932838682], \"yaxis\": \"y\"}, {\"customdata\": [[\"Savage Remix (feat. Beyonc\\u00e9)\"]], \"hoverlabel\": {\"namelength\": 0}, \"hovertemplate\": \"Track_Name=%{customdata[0]}<br>pc1=%{x}<br>pc2=%{y}\", \"legendgroup\": \"Track_Name=Savage Remix (feat. Beyonc\\u00e9)\", \"marker\": {\"color\": \"#EF553B\", \"symbol\": \"circle\"}, \"mode\": \"markers\", \"name\": \"Track_Name=Savage Remix (feat. Beyonc\\u00e9)\", \"showlegend\": true, \"type\": \"scatter\", \"x\": [0.06980335206549007], \"xaxis\": \"x\", \"y\": [-1.011523497207529], \"yaxis\": \"y\"}, {\"customdata\": [[\"BLACK PARADE\"]], \"hoverlabel\": {\"namelength\": 0}, \"hovertemplate\": \"Track_Name=%{customdata[0]}<br>pc1=%{x}<br>pc2=%{y}\", \"legendgroup\": \"Track_Name=BLACK PARADE\", \"marker\": {\"color\": \"#00cc96\", \"symbol\": \"circle\"}, \"mode\": \"markers\", \"name\": \"Track_Name=BLACK PARADE\", \"showlegend\": true, \"type\": \"scatter\", \"x\": [-0.3957354084086912], \"xaxis\": \"x\", \"y\": [0.20770677086378528], \"yaxis\": \"y\"}, {\"customdata\": [[\"Stuck with U (with Justin Bieber)\"]], \"hoverlabel\": {\"namelength\": 0}, \"hovertemplate\": \"Track_Name=%{customdata[0]}<br>pc1=%{x}<br>pc2=%{y}\", \"legendgroup\": \"Track_Name=Stuck with U (with Justin Bieber)\", \"marker\": {\"color\": \"#ab63fa\", \"symbol\": \"circle\"}, \"mode\": \"markers\", \"name\": \"Track_Name=Stuck with U (with Justin Bieber)\", \"showlegend\": true, \"type\": \"scatter\", \"x\": [-0.5112843087527911], \"xaxis\": \"x\", \"y\": [0.022361295358506252], \"yaxis\": \"y\"}, {\"customdata\": [[\"Nobody Speak\"]], \"hoverlabel\": {\"namelength\": 0}, \"hovertemplate\": \"Track_Name=%{customdata[0]}<br>pc1=%{x}<br>pc2=%{y}\", \"legendgroup\": \"Track_Name=Nobody Speak\", \"marker\": {\"color\": \"#FFA15A\", \"symbol\": \"circle\"}, \"mode\": \"markers\", \"name\": \"Track_Name=Nobody Speak\", \"showlegend\": true, \"type\": \"scatter\", \"x\": [-0.6840349938737936], \"xaxis\": \"x\", \"y\": [0.0522542053653862], \"yaxis\": \"y\"}, {\"customdata\": [[\"SUMMER\"]], \"hoverlabel\": {\"namelength\": 0}, \"hovertemplate\": \"Track_Name=%{customdata[0]}<br>pc1=%{x}<br>pc2=%{y}\", \"legendgroup\": \"Track_Name=SUMMER\", \"marker\": {\"color\": \"#19d3f3\", \"symbol\": \"circle\"}, \"mode\": \"markers\", \"name\": \"Track_Name=SUMMER\", \"showlegend\": true, \"type\": \"scatter\", \"x\": [0.08645240828829935], \"xaxis\": \"x\", \"y\": [0.3495664802190428], \"yaxis\": \"y\"}, {\"customdata\": [[\"Comfortable\"]], \"hoverlabel\": {\"namelength\": 0}, \"hovertemplate\": \"Track_Name=%{customdata[0]}<br>pc1=%{x}<br>pc2=%{y}\", \"legendgroup\": \"Track_Name=Comfortable\", \"marker\": {\"color\": \"#FF6692\", \"symbol\": \"circle\"}, \"mode\": \"markers\", \"name\": \"Track_Name=Comfortable\", \"showlegend\": true, \"type\": \"scatter\", \"x\": [0.6486678073726299], \"xaxis\": \"x\", \"y\": [-0.2516253046523562], \"yaxis\": \"y\"}, {\"customdata\": [[\"Lockdown\"]], \"hoverlabel\": {\"namelength\": 0}, \"hovertemplate\": \"Track_Name=%{customdata[0]}<br>pc1=%{x}<br>pc2=%{y}\", \"legendgroup\": \"Track_Name=Lockdown\", \"marker\": {\"color\": \"#B6E880\", \"symbol\": \"circle\"}, \"mode\": \"markers\", \"name\": \"Track_Name=Lockdown\", \"showlegend\": true, \"type\": \"scatter\", \"x\": [0.36809783269026075], \"xaxis\": \"x\", \"y\": [-0.5641244257034621], \"yaxis\": \"y\"}, {\"customdata\": [[\"Cayendo (Side A - Acoustic)\"]], \"hoverlabel\": {\"namelength\": 0}, \"hovertemplate\": \"Track_Name=%{customdata[0]}<br>pc1=%{x}<br>pc2=%{y}\", \"legendgroup\": \"Track_Name=Cayendo (Side A - Acoustic)\", \"marker\": {\"color\": \"#FF97FF\", \"symbol\": \"circle\"}, \"mode\": \"markers\", \"name\": \"Track_Name=Cayendo (Side A - Acoustic)\", \"showlegend\": true, \"type\": \"scatter\", \"x\": [0.9372572071094583], \"xaxis\": \"x\", \"y\": [0.017574289540311504], \"yaxis\": \"y\"}, {\"customdata\": [[\"So It Goes\"]], \"hoverlabel\": {\"namelength\": 0}, \"hovertemplate\": \"Track_Name=%{customdata[0]}<br>pc1=%{x}<br>pc2=%{y}\", \"legendgroup\": \"Track_Name=So It Goes\", \"marker\": {\"color\": \"#FECB52\", \"symbol\": \"circle\"}, \"mode\": \"markers\", \"name\": \"Track_Name=So It Goes\", \"showlegend\": true, \"type\": \"scatter\", \"x\": [0.05294293265052022], \"xaxis\": \"x\", \"y\": [0.43919657529724054], \"yaxis\": \"y\"}, {\"customdata\": [[\"I Can't Breathe\"]], \"hoverlabel\": {\"namelength\": 0}, \"hovertemplate\": \"Track_Name=%{customdata[0]}<br>pc1=%{x}<br>pc2=%{y}\", \"legendgroup\": \"Track_Name=I Can't Breathe\", \"marker\": {\"color\": \"#636efa\", \"symbol\": \"circle\"}, \"mode\": \"markers\", \"name\": \"Track_Name=I Can't Breathe\", \"showlegend\": true, \"type\": \"scatter\", \"x\": [0.11255035223000645], \"xaxis\": \"x\", \"y\": [-0.6990172701890505], \"yaxis\": \"y\"}, {\"customdata\": [[\"Boys\"]], \"hoverlabel\": {\"namelength\": 0}, \"hovertemplate\": \"Track_Name=%{customdata[0]}<br>pc1=%{x}<br>pc2=%{y}\", \"legendgroup\": \"Track_Name=Boys\", \"marker\": {\"color\": \"#EF553B\", \"symbol\": \"circle\"}, \"mode\": \"markers\", \"name\": \"Track_Name=Boys\", \"showlegend\": true, \"type\": \"scatter\", \"x\": [0.13261530653315892], \"xaxis\": \"x\", \"y\": [-0.6519235701458259], \"yaxis\": \"y\"}, {\"customdata\": [[\"Cheap Thrills Remix (feat. Nicky Jam)\"]], \"hoverlabel\": {\"namelength\": 0}, \"hovertemplate\": \"Track_Name=%{customdata[0]}<br>pc1=%{x}<br>pc2=%{y}\", \"legendgroup\": \"Track_Name=Cheap Thrills Remix (feat. Nicky Jam)\", \"marker\": {\"color\": \"#00cc96\", \"symbol\": \"circle\"}, \"mode\": \"markers\", \"name\": \"Track_Name=Cheap Thrills Remix (feat. Nicky Jam)\", \"showlegend\": true, \"type\": \"scatter\", \"x\": [-0.18816728029308302], \"xaxis\": \"x\", \"y\": [-0.7007273808615931], \"yaxis\": \"y\"}, {\"customdata\": [[\"Small Worlds\"]], \"hoverlabel\": {\"namelength\": 0}, \"hovertemplate\": \"Track_Name=%{customdata[0]}<br>pc1=%{x}<br>pc2=%{y}\", \"legendgroup\": \"Track_Name=Small Worlds\", \"marker\": {\"color\": \"#ab63fa\", \"symbol\": \"circle\"}, \"mode\": \"markers\", \"name\": \"Track_Name=Small Worlds\", \"showlegend\": true, \"type\": \"scatter\", \"x\": [0.18468038948654955], \"xaxis\": \"x\", \"y\": [0.32240892051534586], \"yaxis\": \"y\"}, {\"customdata\": [[\"Temporary Fix\"]], \"hoverlabel\": {\"namelength\": 0}, \"hovertemplate\": \"Track_Name=%{customdata[0]}<br>pc1=%{x}<br>pc2=%{y}\", \"legendgroup\": \"Track_Name=Temporary Fix\", \"marker\": {\"color\": \"#FFA15A\", \"symbol\": \"circle\"}, \"mode\": \"markers\", \"name\": \"Track_Name=Temporary Fix\", \"showlegend\": true, \"type\": \"scatter\", \"x\": [-0.6907483389812181], \"xaxis\": \"x\", \"y\": [0.05187444299740073], \"yaxis\": \"y\"}, {\"customdata\": [[\"boyfriend (with Social House)\"]], \"hoverlabel\": {\"namelength\": 0}, \"hovertemplate\": \"Track_Name=%{customdata[0]}<br>pc1=%{x}<br>pc2=%{y}\", \"legendgroup\": \"Track_Name=boyfriend (with Social House)\", \"marker\": {\"color\": \"#19d3f3\", \"symbol\": \"circle\"}, \"mode\": \"markers\", \"name\": \"Track_Name=boyfriend (with Social House)\", \"showlegend\": true, \"type\": \"scatter\", \"x\": [-0.311858048332202], \"xaxis\": \"x\", \"y\": [-1.080015134687266], \"yaxis\": \"y\"}, {\"customdata\": [[\"Bubblin\"]], \"hoverlabel\": {\"namelength\": 0}, \"hovertemplate\": \"Track_Name=%{customdata[0]}<br>pc1=%{x}<br>pc2=%{y}\", \"legendgroup\": \"Track_Name=Bubblin\", \"marker\": {\"color\": \"#FF6692\", \"symbol\": \"circle\"}, \"mode\": \"markers\", \"name\": \"Track_Name=Bubblin\", \"showlegend\": true, \"type\": \"scatter\", \"x\": [-0.6606635649556916], \"xaxis\": \"x\", \"y\": [-0.04343384970811398], \"yaxis\": \"y\"}, {\"customdata\": [[\"waves - Tame Impala Remix\"]], \"hoverlabel\": {\"namelength\": 0}, \"hovertemplate\": \"Track_Name=%{customdata[0]}<br>pc1=%{x}<br>pc2=%{y}\", \"legendgroup\": \"Track_Name=waves - Tame Impala Remix\", \"marker\": {\"color\": \"#B6E880\", \"symbol\": \"circle\"}, \"mode\": \"markers\", \"name\": \"Track_Name=waves - Tame Impala Remix\", \"showlegend\": true, \"type\": \"scatter\", \"x\": [-0.576469753228426], \"xaxis\": \"x\", \"y\": [0.15294915713690369], \"yaxis\": \"y\"}, {\"customdata\": [[\"Dear April (Side A - Acoustic)\"]], \"hoverlabel\": {\"namelength\": 0}, \"hovertemplate\": \"Track_Name=%{customdata[0]}<br>pc1=%{x}<br>pc2=%{y}\", \"legendgroup\": \"Track_Name=Dear April (Side A - Acoustic)\", \"marker\": {\"color\": \"#FF97FF\", \"symbol\": \"circle\"}, \"mode\": \"markers\", \"name\": \"Track_Name=Dear April (Side A - Acoustic)\", \"showlegend\": true, \"type\": \"scatter\", \"x\": [0.8809309280846273], \"xaxis\": \"x\", \"y\": [-0.16891619942632963], \"yaxis\": \"y\"}, {\"customdata\": [[\"Lights Up\"]], \"hoverlabel\": {\"namelength\": 0}, \"hovertemplate\": \"Track_Name=%{customdata[0]}<br>pc1=%{x}<br>pc2=%{y}\", \"legendgroup\": \"Track_Name=Lights Up\", \"marker\": {\"color\": \"#FECB52\", \"symbol\": \"circle\"}, \"mode\": \"markers\", \"name\": \"Track_Name=Lights Up\", \"showlegend\": true, \"type\": \"scatter\", \"x\": [0.06083559511954232], \"xaxis\": \"x\", \"y\": [-0.6642644466333014], \"yaxis\": \"y\"}, {\"customdata\": [[\"Break My Heart\"]], \"hoverlabel\": {\"namelength\": 0}, \"hovertemplate\": \"Track_Name=%{customdata[0]}<br>pc1=%{x}<br>pc2=%{y}\", \"legendgroup\": \"Track_Name=Break My Heart\", \"marker\": {\"color\": \"#636efa\", \"symbol\": \"circle\"}, \"mode\": \"markers\", \"name\": \"Track_Name=Break My Heart\", \"showlegend\": true, \"type\": \"scatter\", \"x\": [-0.09579615061173116], \"xaxis\": \"x\", \"y\": [-0.7837107260386867], \"yaxis\": \"y\"}, {\"customdata\": [[\"Vagabond\"]], \"hoverlabel\": {\"namelength\": 0}, \"hovertemplate\": \"Track_Name=%{customdata[0]}<br>pc1=%{x}<br>pc2=%{y}\", \"legendgroup\": \"Track_Name=Vagabond\", \"marker\": {\"color\": \"#EF553B\", \"symbol\": \"circle\"}, \"mode\": \"markers\", \"name\": \"Track_Name=Vagabond\", \"showlegend\": true, \"type\": \"scatter\", \"x\": [0.18727055012127003], \"xaxis\": \"x\", \"y\": [0.5021362866485347], \"yaxis\": \"y\"}, {\"customdata\": [[\"In My Room\"]], \"hoverlabel\": {\"namelength\": 0}, \"hovertemplate\": \"Track_Name=%{customdata[0]}<br>pc1=%{x}<br>pc2=%{y}\", \"legendgroup\": \"Track_Name=In My Room\", \"marker\": {\"color\": \"#00cc96\", \"symbol\": \"circle\"}, \"mode\": \"markers\", \"name\": \"Track_Name=In My Room\", \"showlegend\": true, \"type\": \"scatter\", \"x\": [0.19474216019509416], \"xaxis\": \"x\", \"y\": [0.33028496465853163], \"yaxis\": \"y\"}, {\"customdata\": [[\"To Whom It May Concern\"]], \"hoverlabel\": {\"namelength\": 0}, \"hovertemplate\": \"Track_Name=%{customdata[0]}<br>pc1=%{x}<br>pc2=%{y}\", \"legendgroup\": \"Track_Name=To Whom It May Concern\", \"marker\": {\"color\": \"#ab63fa\", \"symbol\": \"circle\"}, \"mode\": \"markers\", \"name\": \"Track_Name=To Whom It May Concern\", \"showlegend\": true, \"type\": \"scatter\", \"x\": [-0.20811493568567943], \"xaxis\": \"x\", \"y\": [-0.8373184399633465], \"yaxis\": \"y\"}, {\"customdata\": [[\"Just Be Friends\"]], \"hoverlabel\": {\"namelength\": 0}, \"hovertemplate\": \"Track_Name=%{customdata[0]}<br>pc1=%{x}<br>pc2=%{y}\", \"legendgroup\": \"Track_Name=Just Be Friends\", \"marker\": {\"color\": \"#FFA15A\", \"symbol\": \"circle\"}, \"mode\": \"markers\", \"name\": \"Track_Name=Just Be Friends\", \"showlegend\": true, \"type\": \"scatter\", \"x\": [0.039267233981415677], \"xaxis\": \"x\", \"y\": [-0.7624879868069424], \"yaxis\": \"y\"}, {\"customdata\": [[\"Good News\"]], \"hoverlabel\": {\"namelength\": 0}, \"hovertemplate\": \"Track_Name=%{customdata[0]}<br>pc1=%{x}<br>pc2=%{y}\", \"legendgroup\": \"Track_Name=Good News\", \"marker\": {\"color\": \"#19d3f3\", \"symbol\": \"circle\"}, \"mode\": \"markers\", \"name\": \"Track_Name=Good News\", \"showlegend\": true, \"type\": \"scatter\", \"x\": [0.8427026455465656], \"xaxis\": \"x\", \"y\": [-0.22275027883282972], \"yaxis\": \"y\"}, {\"customdata\": [[\"Nikes\"]], \"hoverlabel\": {\"namelength\": 0}, \"hovertemplate\": \"Track_Name=%{customdata[0]}<br>pc1=%{x}<br>pc2=%{y}\", \"legendgroup\": \"Track_Name=Nikes\", \"marker\": {\"color\": \"#FF6692\", \"symbol\": \"circle\"}, \"mode\": \"markers\", \"name\": \"Track_Name=Nikes\", \"showlegend\": true, \"type\": \"scatter\", \"x\": [0.06130890949436817], \"xaxis\": \"x\", \"y\": [0.3691632878174783], \"yaxis\": \"y\"}, {\"customdata\": [[\"Love It If We Made It\"]], \"hoverlabel\": {\"namelength\": 0}, \"hovertemplate\": \"Track_Name=%{customdata[0]}<br>pc1=%{x}<br>pc2=%{y}\", \"legendgroup\": \"Track_Name=Love It If We Made It\", \"marker\": {\"color\": \"#B6E880\", \"symbol\": \"circle\"}, \"mode\": \"markers\", \"name\": \"Track_Name=Love It If We Made It\", \"showlegend\": true, \"type\": \"scatter\", \"x\": [-0.7257151400872789], \"xaxis\": \"x\", \"y\": [0.209180619334929], \"yaxis\": \"y\"}, {\"customdata\": [[\"The Ways (with Swae Lee)\"]], \"hoverlabel\": {\"namelength\": 0}, \"hovertemplate\": \"Track_Name=%{customdata[0]}<br>pc1=%{x}<br>pc2=%{y}\", \"legendgroup\": \"Track_Name=The Ways (with Swae Lee)\", \"marker\": {\"color\": \"#FF97FF\", \"symbol\": \"circle\"}, \"mode\": \"markers\", \"name\": \"Track_Name=The Ways (with Swae Lee)\", \"showlegend\": true, \"type\": \"scatter\", \"x\": [-0.07598825140911115], \"xaxis\": \"x\", \"y\": [-0.8769544999697705], \"yaxis\": \"y\"}, {\"customdata\": [[\"Toosie Slide\"]], \"hoverlabel\": {\"namelength\": 0}, \"hovertemplate\": \"Track_Name=%{customdata[0]}<br>pc1=%{x}<br>pc2=%{y}\", \"legendgroup\": \"Track_Name=Toosie Slide\", \"marker\": {\"color\": \"#FECB52\", \"symbol\": \"circle\"}, \"mode\": \"markers\", \"name\": \"Track_Name=Toosie Slide\", \"showlegend\": true, \"type\": \"scatter\", \"x\": [0.5587544675900227], \"xaxis\": \"x\", \"y\": [-0.5209193640317035], \"yaxis\": \"y\"}],\n",
              "                        {\"legend\": {\"tracegroupgap\": 0}, \"margin\": {\"t\": 60}, \"template\": {\"data\": {\"bar\": [{\"error_x\": {\"color\": \"#2a3f5f\"}, \"error_y\": {\"color\": \"#2a3f5f\"}, \"marker\": {\"line\": {\"color\": \"#E5ECF6\", \"width\": 0.5}}, \"type\": \"bar\"}], \"barpolar\": [{\"marker\": {\"line\": {\"color\": \"#E5ECF6\", \"width\": 0.5}}, \"type\": \"barpolar\"}], \"carpet\": [{\"aaxis\": {\"endlinecolor\": \"#2a3f5f\", \"gridcolor\": \"white\", \"linecolor\": \"white\", \"minorgridcolor\": \"white\", \"startlinecolor\": \"#2a3f5f\"}, \"baxis\": {\"endlinecolor\": \"#2a3f5f\", \"gridcolor\": \"white\", \"linecolor\": \"white\", \"minorgridcolor\": \"white\", \"startlinecolor\": \"#2a3f5f\"}, \"type\": \"carpet\"}], \"choropleth\": [{\"colorbar\": {\"outlinewidth\": 0, \"ticks\": \"\"}, \"type\": \"choropleth\"}], \"contour\": [{\"colorbar\": {\"outlinewidth\": 0, \"ticks\": \"\"}, \"colorscale\": [[0.0, \"#0d0887\"], [0.1111111111111111, \"#46039f\"], [0.2222222222222222, \"#7201a8\"], [0.3333333333333333, \"#9c179e\"], [0.4444444444444444, \"#bd3786\"], [0.5555555555555556, \"#d8576b\"], [0.6666666666666666, \"#ed7953\"], [0.7777777777777778, \"#fb9f3a\"], [0.8888888888888888, \"#fdca26\"], [1.0, \"#f0f921\"]], \"type\": \"contour\"}], \"contourcarpet\": [{\"colorbar\": {\"outlinewidth\": 0, \"ticks\": \"\"}, \"type\": \"contourcarpet\"}], \"heatmap\": [{\"colorbar\": {\"outlinewidth\": 0, \"ticks\": \"\"}, \"colorscale\": [[0.0, \"#0d0887\"], [0.1111111111111111, \"#46039f\"], [0.2222222222222222, \"#7201a8\"], [0.3333333333333333, \"#9c179e\"], [0.4444444444444444, \"#bd3786\"], [0.5555555555555556, \"#d8576b\"], [0.6666666666666666, \"#ed7953\"], [0.7777777777777778, \"#fb9f3a\"], [0.8888888888888888, \"#fdca26\"], [1.0, \"#f0f921\"]], \"type\": \"heatmap\"}], \"heatmapgl\": [{\"colorbar\": {\"outlinewidth\": 0, \"ticks\": \"\"}, \"colorscale\": [[0.0, \"#0d0887\"], [0.1111111111111111, \"#46039f\"], [0.2222222222222222, \"#7201a8\"], [0.3333333333333333, \"#9c179e\"], [0.4444444444444444, \"#bd3786\"], [0.5555555555555556, \"#d8576b\"], [0.6666666666666666, \"#ed7953\"], [0.7777777777777778, \"#fb9f3a\"], [0.8888888888888888, \"#fdca26\"], [1.0, \"#f0f921\"]], \"type\": \"heatmapgl\"}], \"histogram\": [{\"marker\": {\"colorbar\": {\"outlinewidth\": 0, \"ticks\": \"\"}}, \"type\": \"histogram\"}], \"histogram2d\": [{\"colorbar\": {\"outlinewidth\": 0, \"ticks\": \"\"}, \"colorscale\": [[0.0, \"#0d0887\"], [0.1111111111111111, \"#46039f\"], [0.2222222222222222, \"#7201a8\"], [0.3333333333333333, \"#9c179e\"], [0.4444444444444444, \"#bd3786\"], [0.5555555555555556, \"#d8576b\"], [0.6666666666666666, \"#ed7953\"], [0.7777777777777778, \"#fb9f3a\"], [0.8888888888888888, \"#fdca26\"], [1.0, \"#f0f921\"]], \"type\": \"histogram2d\"}], \"histogram2dcontour\": [{\"colorbar\": {\"outlinewidth\": 0, \"ticks\": \"\"}, \"colorscale\": [[0.0, \"#0d0887\"], [0.1111111111111111, \"#46039f\"], [0.2222222222222222, \"#7201a8\"], [0.3333333333333333, \"#9c179e\"], [0.4444444444444444, \"#bd3786\"], [0.5555555555555556, \"#d8576b\"], [0.6666666666666666, \"#ed7953\"], [0.7777777777777778, \"#fb9f3a\"], [0.8888888888888888, \"#fdca26\"], [1.0, \"#f0f921\"]], \"type\": \"histogram2dcontour\"}], \"mesh3d\": [{\"colorbar\": {\"outlinewidth\": 0, \"ticks\": \"\"}, \"type\": \"mesh3d\"}], \"parcoords\": [{\"line\": {\"colorbar\": {\"outlinewidth\": 0, \"ticks\": \"\"}}, \"type\": \"parcoords\"}], \"pie\": [{\"automargin\": true, \"type\": \"pie\"}], \"scatter\": [{\"marker\": {\"colorbar\": {\"outlinewidth\": 0, \"ticks\": \"\"}}, \"type\": \"scatter\"}], \"scatter3d\": [{\"line\": {\"colorbar\": {\"outlinewidth\": 0, \"ticks\": \"\"}}, \"marker\": {\"colorbar\": {\"outlinewidth\": 0, \"ticks\": \"\"}}, \"type\": \"scatter3d\"}], \"scattercarpet\": [{\"marker\": {\"colorbar\": {\"outlinewidth\": 0, \"ticks\": \"\"}}, \"type\": \"scattercarpet\"}], \"scattergeo\": [{\"marker\": {\"colorbar\": {\"outlinewidth\": 0, \"ticks\": \"\"}}, \"type\": \"scattergeo\"}], \"scattergl\": [{\"marker\": {\"colorbar\": {\"outlinewidth\": 0, \"ticks\": \"\"}}, \"type\": \"scattergl\"}], \"scattermapbox\": [{\"marker\": {\"colorbar\": {\"outlinewidth\": 0, \"ticks\": \"\"}}, \"type\": \"scattermapbox\"}], \"scatterpolar\": [{\"marker\": {\"colorbar\": {\"outlinewidth\": 0, \"ticks\": \"\"}}, \"type\": \"scatterpolar\"}], \"scatterpolargl\": [{\"marker\": {\"colorbar\": {\"outlinewidth\": 0, \"ticks\": \"\"}}, \"type\": \"scatterpolargl\"}], \"scatterternary\": [{\"marker\": {\"colorbar\": {\"outlinewidth\": 0, \"ticks\": \"\"}}, \"type\": \"scatterternary\"}], \"surface\": [{\"colorbar\": {\"outlinewidth\": 0, \"ticks\": \"\"}, \"colorscale\": [[0.0, \"#0d0887\"], [0.1111111111111111, \"#46039f\"], [0.2222222222222222, \"#7201a8\"], [0.3333333333333333, \"#9c179e\"], [0.4444444444444444, \"#bd3786\"], [0.5555555555555556, \"#d8576b\"], [0.6666666666666666, \"#ed7953\"], [0.7777777777777778, \"#fb9f3a\"], [0.8888888888888888, \"#fdca26\"], [1.0, \"#f0f921\"]], \"type\": \"surface\"}], \"table\": [{\"cells\": {\"fill\": {\"color\": \"#EBF0F8\"}, \"line\": {\"color\": \"white\"}}, \"header\": {\"fill\": {\"color\": \"#C8D4E3\"}, \"line\": {\"color\": \"white\"}}, \"type\": \"table\"}]}, \"layout\": {\"annotationdefaults\": {\"arrowcolor\": \"#2a3f5f\", \"arrowhead\": 0, \"arrowwidth\": 1}, \"coloraxis\": {\"colorbar\": {\"outlinewidth\": 0, \"ticks\": \"\"}}, \"colorscale\": {\"diverging\": [[0, \"#8e0152\"], [0.1, \"#c51b7d\"], [0.2, \"#de77ae\"], [0.3, \"#f1b6da\"], [0.4, \"#fde0ef\"], [0.5, \"#f7f7f7\"], [0.6, \"#e6f5d0\"], [0.7, \"#b8e186\"], [0.8, \"#7fbc41\"], [0.9, \"#4d9221\"], [1, \"#276419\"]], \"sequential\": [[0.0, \"#0d0887\"], [0.1111111111111111, \"#46039f\"], [0.2222222222222222, \"#7201a8\"], [0.3333333333333333, \"#9c179e\"], [0.4444444444444444, \"#bd3786\"], [0.5555555555555556, \"#d8576b\"], [0.6666666666666666, \"#ed7953\"], [0.7777777777777778, \"#fb9f3a\"], [0.8888888888888888, \"#fdca26\"], [1.0, \"#f0f921\"]], \"sequentialminus\": [[0.0, \"#0d0887\"], [0.1111111111111111, \"#46039f\"], [0.2222222222222222, \"#7201a8\"], [0.3333333333333333, \"#9c179e\"], [0.4444444444444444, \"#bd3786\"], [0.5555555555555556, \"#d8576b\"], [0.6666666666666666, \"#ed7953\"], [0.7777777777777778, \"#fb9f3a\"], [0.8888888888888888, \"#fdca26\"], [1.0, \"#f0f921\"]]}, \"colorway\": [\"#636efa\", \"#EF553B\", \"#00cc96\", \"#ab63fa\", \"#FFA15A\", \"#19d3f3\", \"#FF6692\", \"#B6E880\", \"#FF97FF\", \"#FECB52\"], \"font\": {\"color\": \"#2a3f5f\"}, \"geo\": {\"bgcolor\": \"white\", \"lakecolor\": \"white\", \"landcolor\": \"#E5ECF6\", \"showlakes\": true, \"showland\": true, \"subunitcolor\": \"white\"}, \"hoverlabel\": {\"align\": \"left\"}, \"hovermode\": \"closest\", \"mapbox\": {\"style\": \"light\"}, \"paper_bgcolor\": \"white\", \"plot_bgcolor\": \"#E5ECF6\", \"polar\": {\"angularaxis\": {\"gridcolor\": \"white\", \"linecolor\": \"white\", \"ticks\": \"\"}, \"bgcolor\": \"#E5ECF6\", \"radialaxis\": {\"gridcolor\": \"white\", \"linecolor\": \"white\", \"ticks\": \"\"}}, \"scene\": {\"xaxis\": {\"backgroundcolor\": \"#E5ECF6\", \"gridcolor\": \"white\", \"gridwidth\": 2, \"linecolor\": \"white\", \"showbackground\": true, \"ticks\": \"\", \"zerolinecolor\": \"white\"}, \"yaxis\": {\"backgroundcolor\": \"#E5ECF6\", \"gridcolor\": \"white\", \"gridwidth\": 2, \"linecolor\": \"white\", \"showbackground\": true, \"ticks\": \"\", \"zerolinecolor\": \"white\"}, \"zaxis\": {\"backgroundcolor\": \"#E5ECF6\", \"gridcolor\": \"white\", \"gridwidth\": 2, \"linecolor\": \"white\", \"showbackground\": true, \"ticks\": \"\", \"zerolinecolor\": \"white\"}}, \"shapedefaults\": {\"line\": {\"color\": \"#2a3f5f\"}}, \"ternary\": {\"aaxis\": {\"gridcolor\": \"white\", \"linecolor\": \"white\", \"ticks\": \"\"}, \"baxis\": {\"gridcolor\": \"white\", \"linecolor\": \"white\", \"ticks\": \"\"}, \"bgcolor\": \"#E5ECF6\", \"caxis\": {\"gridcolor\": \"white\", \"linecolor\": \"white\", \"ticks\": \"\"}}, \"title\": {\"x\": 0.05}, \"xaxis\": {\"automargin\": true, \"gridcolor\": \"white\", \"linecolor\": \"white\", \"ticks\": \"\", \"title\": {\"standoff\": 15}, \"zerolinecolor\": \"white\", \"zerolinewidth\": 2}, \"yaxis\": {\"automargin\": true, \"gridcolor\": \"white\", \"linecolor\": \"white\", \"ticks\": \"\", \"title\": {\"standoff\": 15}, \"zerolinecolor\": \"white\", \"zerolinewidth\": 2}}}, \"xaxis\": {\"anchor\": \"y\", \"domain\": [0.0, 1.0], \"title\": {\"text\": \"pc1\"}}, \"yaxis\": {\"anchor\": \"x\", \"domain\": [0.0, 1.0], \"title\": {\"text\": \"pc2\"}}},\n",
              "                        {\"responsive\": true}\n",
              "                    ).then(function(){\n",
              "                            \n",
              "var gd = document.getElementById('009a3f13-362d-43f5-b0c4-d3b7505c1ef0');\n",
              "var x = new MutationObserver(function (mutations, observer) {{\n",
              "        var display = window.getComputedStyle(gd).display;\n",
              "        if (!display || display === 'none') {{\n",
              "            console.log([gd, 'removed!']);\n",
              "            Plotly.purge(gd);\n",
              "            observer.disconnect();\n",
              "        }}\n",
              "}});\n",
              "\n",
              "// Listen for the removal of the full notebook cells\n",
              "var notebookContainer = gd.closest('#notebook-container');\n",
              "if (notebookContainer) {{\n",
              "    x.observe(notebookContainer, {childList: true});\n",
              "}}\n",
              "\n",
              "// Listen for the clearing of the current output cell\n",
              "var outputEl = gd.closest('.output');\n",
              "if (outputEl) {{\n",
              "    x.observe(outputEl, {childList: true});\n",
              "}}\n",
              "\n",
              "                        })\n",
              "                };\n",
              "                \n",
              "            </script>\n",
              "        </div>\n",
              "</body>\n",
              "</html>"
            ]
          },
          "metadata": {
            "tags": []
          }
        }
      ]
    },
    {
      "cell_type": "code",
      "metadata": {
        "id": "OKBzBkAPANya",
        "colab_type": "code",
        "colab": {
          "base_uri": "https://localhost:8080/",
          "height": 297
        },
        "outputId": "d87bbdbd-7847-4674-ce10-99968960c640"
      },
      "source": [
        "stored_user_positions = pd.read_csv('drive/My Drive/SpotifyDS/user_position.csv')\n",
        "#user_position[2:]['Pers']='ENTJ'\n",
        "user_position = stored_user_positions[['User','X','Y','Pers']]\n",
        "\n",
        "user_position"
      ],
      "execution_count": 135,
      "outputs": [
        {
          "output_type": "execute_result",
          "data": {
            "text/html": [
              "<div>\n",
              "<style scoped>\n",
              "    .dataframe tbody tr th:only-of-type {\n",
              "        vertical-align: middle;\n",
              "    }\n",
              "\n",
              "    .dataframe tbody tr th {\n",
              "        vertical-align: top;\n",
              "    }\n",
              "\n",
              "    .dataframe thead th {\n",
              "        text-align: right;\n",
              "    }\n",
              "</style>\n",
              "<table border=\"1\" class=\"dataframe\">\n",
              "  <thead>\n",
              "    <tr style=\"text-align: right;\">\n",
              "      <th></th>\n",
              "      <th>User</th>\n",
              "      <th>X</th>\n",
              "      <th>Y</th>\n",
              "      <th>Pers</th>\n",
              "    </tr>\n",
              "  </thead>\n",
              "  <tbody>\n",
              "    <tr>\n",
              "      <th>0</th>\n",
              "      <td>Test</td>\n",
              "      <td>0.000000e+00</td>\n",
              "      <td>0.000000e+00</td>\n",
              "      <td>UNK</td>\n",
              "    </tr>\n",
              "    <tr>\n",
              "      <th>1</th>\n",
              "      <td>Mihir</td>\n",
              "      <td>-3.053113e-17</td>\n",
              "      <td>2.035409e-17</td>\n",
              "      <td>ENTJ</td>\n",
              "    </tr>\n",
              "    <tr>\n",
              "      <th>2</th>\n",
              "      <td>Yassine</td>\n",
              "      <td>-6.628938e-02</td>\n",
              "      <td>-2.470566e-01</td>\n",
              "      <td>INFJ</td>\n",
              "    </tr>\n",
              "    <tr>\n",
              "      <th>3</th>\n",
              "      <td>anya</td>\n",
              "      <td>-1.728095e-01</td>\n",
              "      <td>-2.087594e-01</td>\n",
              "      <td>ENFP</td>\n",
              "    </tr>\n",
              "    <tr>\n",
              "      <th>4</th>\n",
              "      <td>rhea</td>\n",
              "      <td>1.317379e-01</td>\n",
              "      <td>-1.989217e-01</td>\n",
              "      <td>ESFJ</td>\n",
              "    </tr>\n",
              "    <tr>\n",
              "      <th>5</th>\n",
              "      <td>Khushmeet</td>\n",
              "      <td>2.809389e-01</td>\n",
              "      <td>1.104892e-01</td>\n",
              "      <td>UNK</td>\n",
              "    </tr>\n",
              "    <tr>\n",
              "      <th>6</th>\n",
              "      <td>Anika</td>\n",
              "      <td>9.351143e-02</td>\n",
              "      <td>-4.850136e-02</td>\n",
              "      <td>ENFJ</td>\n",
              "    </tr>\n",
              "    <tr>\n",
              "      <th>7</th>\n",
              "      <td>Aanvi</td>\n",
              "      <td>-1.473057e-01</td>\n",
              "      <td>-2.234577e-01</td>\n",
              "      <td>ISFJ</td>\n",
              "    </tr>\n",
              "  </tbody>\n",
              "</table>\n",
              "</div>"
            ],
            "text/plain": [
              "        User             X             Y  Pers\n",
              "0       Test  0.000000e+00  0.000000e+00   UNK\n",
              "1      Mihir -3.053113e-17  2.035409e-17  ENTJ\n",
              "2    Yassine -6.628938e-02 -2.470566e-01  INFJ\n",
              "3       anya -1.728095e-01 -2.087594e-01  ENFP\n",
              "4       rhea  1.317379e-01 -1.989217e-01  ESFJ\n",
              "5  Khushmeet  2.809389e-01  1.104892e-01   UNK\n",
              "6      Anika  9.351143e-02 -4.850136e-02  ENFJ\n",
              "7      Aanvi -1.473057e-01 -2.234577e-01  ISFJ"
            ]
          },
          "metadata": {
            "tags": []
          },
          "execution_count": 135
        }
      ]
    },
    {
      "cell_type": "code",
      "metadata": {
        "id": "yNsa0TZYAV1R",
        "colab_type": "code",
        "colab": {}
      },
      "source": [
        "user_position = user_position.append({'User' : username , 'X' : finaldf['pc1'].mean(),'Y':finaldf['pc2'].mean(),'Pers':personaility} , ignore_index=True)"
      ],
      "execution_count": 136,
      "outputs": []
    },
    {
      "cell_type": "code",
      "metadata": {
        "id": "D68h_hpUAruf",
        "colab_type": "code",
        "colab": {
          "base_uri": "https://localhost:8080/",
          "height": 542
        },
        "outputId": "de28d224-9e04-4dcd-fb48-f1a8861b9d75"
      },
      "source": [
        "#df = px.data.iris()\n",
        "fig = px.scatter(user_position, x=\"X\", y=\"Y\", color=\"Pers\"\n",
        "                 , hover_data=['User'])\n",
        "fig.show()"
      ],
      "execution_count": 137,
      "outputs": [
        {
          "output_type": "display_data",
          "data": {
            "text/html": [
              "<html>\n",
              "<head><meta charset=\"utf-8\" /></head>\n",
              "<body>\n",
              "    <div>\n",
              "            <script src=\"https://cdnjs.cloudflare.com/ajax/libs/mathjax/2.7.5/MathJax.js?config=TeX-AMS-MML_SVG\"></script><script type=\"text/javascript\">if (window.MathJax) {MathJax.Hub.Config({SVG: {font: \"STIX-Web\"}});}</script>\n",
              "                <script type=\"text/javascript\">window.PlotlyConfig = {MathJaxConfig: 'local'};</script>\n",
              "        <script src=\"https://cdn.plot.ly/plotly-latest.min.js\"></script>    \n",
              "            <div id=\"6f88d8ed-1a56-4569-a98f-56d6433911df\" class=\"plotly-graph-div\" style=\"height:525px; width:100%;\"></div>\n",
              "            <script type=\"text/javascript\">\n",
              "                \n",
              "                    window.PLOTLYENV=window.PLOTLYENV || {};\n",
              "                    \n",
              "                if (document.getElementById(\"6f88d8ed-1a56-4569-a98f-56d6433911df\")) {\n",
              "                    Plotly.newPlot(\n",
              "                        '6f88d8ed-1a56-4569-a98f-56d6433911df',\n",
              "                        [{\"customdata\": [[\"Test\"], [\"Khushmeet\"], [\"Ashna\"]], \"hoverlabel\": {\"namelength\": 0}, \"hovertemplate\": \"Pers=UNK<br>X=%{x}<br>Y=%{y}<br>User=%{customdata[0]}\", \"legendgroup\": \"Pers=UNK\", \"marker\": {\"color\": \"#636efa\", \"symbol\": \"circle\"}, \"mode\": \"markers\", \"name\": \"Pers=UNK\", \"showlegend\": true, \"type\": \"scatter\", \"x\": [0.0, 0.2809388504232571, 0.005515367481992908], \"xaxis\": \"x\", \"y\": [0.0, 0.11048915567582583, -0.2579745490796193], \"yaxis\": \"y\"}, {\"customdata\": [[\"Mihir\"]], \"hoverlabel\": {\"namelength\": 0}, \"hovertemplate\": \"Pers=ENTJ<br>X=%{x}<br>Y=%{y}<br>User=%{customdata[0]}\", \"legendgroup\": \"Pers=ENTJ\", \"marker\": {\"color\": \"#EF553B\", \"symbol\": \"circle\"}, \"mode\": \"markers\", \"name\": \"Pers=ENTJ\", \"showlegend\": true, \"type\": \"scatter\", \"x\": [-3.053113317719181e-17], \"xaxis\": \"x\", \"y\": [2.0354088784794526e-17], \"yaxis\": \"y\"}, {\"customdata\": [[\"Yassine\"]], \"hoverlabel\": {\"namelength\": 0}, \"hovertemplate\": \"Pers=INFJ<br>X=%{x}<br>Y=%{y}<br>User=%{customdata[0]}\", \"legendgroup\": \"Pers=INFJ\", \"marker\": {\"color\": \"#00cc96\", \"symbol\": \"circle\"}, \"mode\": \"markers\", \"name\": \"Pers=INFJ\", \"showlegend\": true, \"type\": \"scatter\", \"x\": [-0.06628937790512404], \"xaxis\": \"x\", \"y\": [-0.2470566331977917], \"yaxis\": \"y\"}, {\"customdata\": [[\"anya\"]], \"hoverlabel\": {\"namelength\": 0}, \"hovertemplate\": \"Pers=ENFP<br>X=%{x}<br>Y=%{y}<br>User=%{customdata[0]}\", \"legendgroup\": \"Pers=ENFP\", \"marker\": {\"color\": \"#ab63fa\", \"symbol\": \"circle\"}, \"mode\": \"markers\", \"name\": \"Pers=ENFP\", \"showlegend\": true, \"type\": \"scatter\", \"x\": [-0.17280949851287636], \"xaxis\": \"x\", \"y\": [-0.2087594086808726], \"yaxis\": \"y\"}, {\"customdata\": [[\"rhea\"]], \"hoverlabel\": {\"namelength\": 0}, \"hovertemplate\": \"Pers=ESFJ<br>X=%{x}<br>Y=%{y}<br>User=%{customdata[0]}\", \"legendgroup\": \"Pers=ESFJ\", \"marker\": {\"color\": \"#FFA15A\", \"symbol\": \"circle\"}, \"mode\": \"markers\", \"name\": \"Pers=ESFJ\", \"showlegend\": true, \"type\": \"scatter\", \"x\": [0.13173791041014532], \"xaxis\": \"x\", \"y\": [-0.1989217331731353], \"yaxis\": \"y\"}, {\"customdata\": [[\"Anika\"]], \"hoverlabel\": {\"namelength\": 0}, \"hovertemplate\": \"Pers=ENFJ<br>X=%{x}<br>Y=%{y}<br>User=%{customdata[0]}\", \"legendgroup\": \"Pers=ENFJ\", \"marker\": {\"color\": \"#19d3f3\", \"symbol\": \"circle\"}, \"mode\": \"markers\", \"name\": \"Pers=ENFJ\", \"showlegend\": true, \"type\": \"scatter\", \"x\": [0.09351143350607156], \"xaxis\": \"x\", \"y\": [-0.04850135564743917], \"yaxis\": \"y\"}, {\"customdata\": [[\"Aanvi\"]], \"hoverlabel\": {\"namelength\": 0}, \"hovertemplate\": \"Pers=ISFJ<br>X=%{x}<br>Y=%{y}<br>User=%{customdata[0]}\", \"legendgroup\": \"Pers=ISFJ\", \"marker\": {\"color\": \"#FF6692\", \"symbol\": \"circle\"}, \"mode\": \"markers\", \"name\": \"Pers=ISFJ\", \"showlegend\": true, \"type\": \"scatter\", \"x\": [-0.14730570881545849], \"xaxis\": \"x\", \"y\": [-0.22345765925642205], \"yaxis\": \"y\"}],\n",
              "                        {\"legend\": {\"tracegroupgap\": 0}, \"margin\": {\"t\": 60}, \"template\": {\"data\": {\"bar\": [{\"error_x\": {\"color\": \"#2a3f5f\"}, \"error_y\": {\"color\": \"#2a3f5f\"}, \"marker\": {\"line\": {\"color\": \"#E5ECF6\", \"width\": 0.5}}, \"type\": \"bar\"}], \"barpolar\": [{\"marker\": {\"line\": {\"color\": \"#E5ECF6\", \"width\": 0.5}}, \"type\": \"barpolar\"}], \"carpet\": [{\"aaxis\": {\"endlinecolor\": \"#2a3f5f\", \"gridcolor\": \"white\", \"linecolor\": \"white\", \"minorgridcolor\": \"white\", \"startlinecolor\": \"#2a3f5f\"}, \"baxis\": {\"endlinecolor\": \"#2a3f5f\", \"gridcolor\": \"white\", \"linecolor\": \"white\", \"minorgridcolor\": \"white\", \"startlinecolor\": \"#2a3f5f\"}, \"type\": \"carpet\"}], \"choropleth\": [{\"colorbar\": {\"outlinewidth\": 0, \"ticks\": \"\"}, \"type\": \"choropleth\"}], \"contour\": [{\"colorbar\": {\"outlinewidth\": 0, \"ticks\": \"\"}, \"colorscale\": [[0.0, \"#0d0887\"], [0.1111111111111111, \"#46039f\"], [0.2222222222222222, \"#7201a8\"], [0.3333333333333333, \"#9c179e\"], [0.4444444444444444, \"#bd3786\"], [0.5555555555555556, \"#d8576b\"], [0.6666666666666666, \"#ed7953\"], [0.7777777777777778, \"#fb9f3a\"], [0.8888888888888888, \"#fdca26\"], [1.0, \"#f0f921\"]], \"type\": \"contour\"}], \"contourcarpet\": [{\"colorbar\": {\"outlinewidth\": 0, \"ticks\": \"\"}, \"type\": \"contourcarpet\"}], \"heatmap\": [{\"colorbar\": {\"outlinewidth\": 0, \"ticks\": \"\"}, \"colorscale\": [[0.0, \"#0d0887\"], [0.1111111111111111, \"#46039f\"], [0.2222222222222222, \"#7201a8\"], [0.3333333333333333, \"#9c179e\"], [0.4444444444444444, \"#bd3786\"], [0.5555555555555556, \"#d8576b\"], [0.6666666666666666, \"#ed7953\"], [0.7777777777777778, \"#fb9f3a\"], [0.8888888888888888, \"#fdca26\"], [1.0, \"#f0f921\"]], \"type\": \"heatmap\"}], \"heatmapgl\": [{\"colorbar\": {\"outlinewidth\": 0, \"ticks\": \"\"}, \"colorscale\": [[0.0, \"#0d0887\"], [0.1111111111111111, \"#46039f\"], [0.2222222222222222, \"#7201a8\"], [0.3333333333333333, \"#9c179e\"], [0.4444444444444444, \"#bd3786\"], [0.5555555555555556, \"#d8576b\"], [0.6666666666666666, \"#ed7953\"], [0.7777777777777778, \"#fb9f3a\"], [0.8888888888888888, \"#fdca26\"], [1.0, \"#f0f921\"]], \"type\": \"heatmapgl\"}], \"histogram\": [{\"marker\": {\"colorbar\": {\"outlinewidth\": 0, \"ticks\": \"\"}}, \"type\": \"histogram\"}], \"histogram2d\": [{\"colorbar\": {\"outlinewidth\": 0, \"ticks\": \"\"}, \"colorscale\": [[0.0, \"#0d0887\"], [0.1111111111111111, \"#46039f\"], [0.2222222222222222, \"#7201a8\"], [0.3333333333333333, \"#9c179e\"], [0.4444444444444444, \"#bd3786\"], [0.5555555555555556, \"#d8576b\"], [0.6666666666666666, \"#ed7953\"], [0.7777777777777778, \"#fb9f3a\"], [0.8888888888888888, \"#fdca26\"], [1.0, \"#f0f921\"]], \"type\": \"histogram2d\"}], \"histogram2dcontour\": [{\"colorbar\": {\"outlinewidth\": 0, \"ticks\": \"\"}, \"colorscale\": [[0.0, \"#0d0887\"], [0.1111111111111111, \"#46039f\"], [0.2222222222222222, \"#7201a8\"], [0.3333333333333333, \"#9c179e\"], [0.4444444444444444, \"#bd3786\"], [0.5555555555555556, \"#d8576b\"], [0.6666666666666666, \"#ed7953\"], [0.7777777777777778, \"#fb9f3a\"], [0.8888888888888888, \"#fdca26\"], [1.0, \"#f0f921\"]], \"type\": \"histogram2dcontour\"}], \"mesh3d\": [{\"colorbar\": {\"outlinewidth\": 0, \"ticks\": \"\"}, \"type\": \"mesh3d\"}], \"parcoords\": [{\"line\": {\"colorbar\": {\"outlinewidth\": 0, \"ticks\": \"\"}}, \"type\": \"parcoords\"}], \"pie\": [{\"automargin\": true, \"type\": \"pie\"}], \"scatter\": [{\"marker\": {\"colorbar\": {\"outlinewidth\": 0, \"ticks\": \"\"}}, \"type\": \"scatter\"}], \"scatter3d\": [{\"line\": {\"colorbar\": {\"outlinewidth\": 0, \"ticks\": \"\"}}, \"marker\": {\"colorbar\": {\"outlinewidth\": 0, \"ticks\": \"\"}}, \"type\": \"scatter3d\"}], \"scattercarpet\": [{\"marker\": {\"colorbar\": {\"outlinewidth\": 0, \"ticks\": \"\"}}, \"type\": \"scattercarpet\"}], \"scattergeo\": [{\"marker\": {\"colorbar\": {\"outlinewidth\": 0, \"ticks\": \"\"}}, \"type\": \"scattergeo\"}], \"scattergl\": [{\"marker\": {\"colorbar\": {\"outlinewidth\": 0, \"ticks\": \"\"}}, \"type\": \"scattergl\"}], \"scattermapbox\": [{\"marker\": {\"colorbar\": {\"outlinewidth\": 0, \"ticks\": \"\"}}, \"type\": \"scattermapbox\"}], \"scatterpolar\": [{\"marker\": {\"colorbar\": {\"outlinewidth\": 0, \"ticks\": \"\"}}, \"type\": \"scatterpolar\"}], \"scatterpolargl\": [{\"marker\": {\"colorbar\": {\"outlinewidth\": 0, \"ticks\": \"\"}}, \"type\": \"scatterpolargl\"}], \"scatterternary\": [{\"marker\": {\"colorbar\": {\"outlinewidth\": 0, \"ticks\": \"\"}}, \"type\": \"scatterternary\"}], \"surface\": [{\"colorbar\": {\"outlinewidth\": 0, \"ticks\": \"\"}, \"colorscale\": [[0.0, \"#0d0887\"], [0.1111111111111111, \"#46039f\"], [0.2222222222222222, \"#7201a8\"], [0.3333333333333333, \"#9c179e\"], [0.4444444444444444, \"#bd3786\"], [0.5555555555555556, \"#d8576b\"], [0.6666666666666666, \"#ed7953\"], [0.7777777777777778, \"#fb9f3a\"], [0.8888888888888888, \"#fdca26\"], [1.0, \"#f0f921\"]], \"type\": \"surface\"}], \"table\": [{\"cells\": {\"fill\": {\"color\": \"#EBF0F8\"}, \"line\": {\"color\": \"white\"}}, \"header\": {\"fill\": {\"color\": \"#C8D4E3\"}, \"line\": {\"color\": \"white\"}}, \"type\": \"table\"}]}, \"layout\": {\"annotationdefaults\": {\"arrowcolor\": \"#2a3f5f\", \"arrowhead\": 0, \"arrowwidth\": 1}, \"coloraxis\": {\"colorbar\": {\"outlinewidth\": 0, \"ticks\": \"\"}}, \"colorscale\": {\"diverging\": [[0, \"#8e0152\"], [0.1, \"#c51b7d\"], [0.2, \"#de77ae\"], [0.3, \"#f1b6da\"], [0.4, \"#fde0ef\"], [0.5, \"#f7f7f7\"], [0.6, \"#e6f5d0\"], [0.7, \"#b8e186\"], [0.8, \"#7fbc41\"], [0.9, \"#4d9221\"], [1, \"#276419\"]], \"sequential\": [[0.0, \"#0d0887\"], [0.1111111111111111, \"#46039f\"], [0.2222222222222222, \"#7201a8\"], [0.3333333333333333, \"#9c179e\"], [0.4444444444444444, \"#bd3786\"], [0.5555555555555556, \"#d8576b\"], [0.6666666666666666, \"#ed7953\"], [0.7777777777777778, \"#fb9f3a\"], [0.8888888888888888, \"#fdca26\"], [1.0, \"#f0f921\"]], \"sequentialminus\": [[0.0, \"#0d0887\"], [0.1111111111111111, \"#46039f\"], [0.2222222222222222, \"#7201a8\"], [0.3333333333333333, \"#9c179e\"], [0.4444444444444444, \"#bd3786\"], [0.5555555555555556, \"#d8576b\"], [0.6666666666666666, \"#ed7953\"], [0.7777777777777778, \"#fb9f3a\"], [0.8888888888888888, \"#fdca26\"], [1.0, \"#f0f921\"]]}, \"colorway\": [\"#636efa\", \"#EF553B\", \"#00cc96\", \"#ab63fa\", \"#FFA15A\", \"#19d3f3\", \"#FF6692\", \"#B6E880\", \"#FF97FF\", \"#FECB52\"], \"font\": {\"color\": \"#2a3f5f\"}, \"geo\": {\"bgcolor\": \"white\", \"lakecolor\": \"white\", \"landcolor\": \"#E5ECF6\", \"showlakes\": true, \"showland\": true, \"subunitcolor\": \"white\"}, \"hoverlabel\": {\"align\": \"left\"}, \"hovermode\": \"closest\", \"mapbox\": {\"style\": \"light\"}, \"paper_bgcolor\": \"white\", \"plot_bgcolor\": \"#E5ECF6\", \"polar\": {\"angularaxis\": {\"gridcolor\": \"white\", \"linecolor\": \"white\", \"ticks\": \"\"}, \"bgcolor\": \"#E5ECF6\", \"radialaxis\": {\"gridcolor\": \"white\", \"linecolor\": \"white\", \"ticks\": \"\"}}, \"scene\": {\"xaxis\": {\"backgroundcolor\": \"#E5ECF6\", \"gridcolor\": \"white\", \"gridwidth\": 2, \"linecolor\": \"white\", \"showbackground\": true, \"ticks\": \"\", \"zerolinecolor\": \"white\"}, \"yaxis\": {\"backgroundcolor\": \"#E5ECF6\", \"gridcolor\": \"white\", \"gridwidth\": 2, \"linecolor\": \"white\", \"showbackground\": true, \"ticks\": \"\", \"zerolinecolor\": \"white\"}, \"zaxis\": {\"backgroundcolor\": \"#E5ECF6\", \"gridcolor\": \"white\", \"gridwidth\": 2, \"linecolor\": \"white\", \"showbackground\": true, \"ticks\": \"\", \"zerolinecolor\": \"white\"}}, \"shapedefaults\": {\"line\": {\"color\": \"#2a3f5f\"}}, \"ternary\": {\"aaxis\": {\"gridcolor\": \"white\", \"linecolor\": \"white\", \"ticks\": \"\"}, \"baxis\": {\"gridcolor\": \"white\", \"linecolor\": \"white\", \"ticks\": \"\"}, \"bgcolor\": \"#E5ECF6\", \"caxis\": {\"gridcolor\": \"white\", \"linecolor\": \"white\", \"ticks\": \"\"}}, \"title\": {\"x\": 0.05}, \"xaxis\": {\"automargin\": true, \"gridcolor\": \"white\", \"linecolor\": \"white\", \"ticks\": \"\", \"title\": {\"standoff\": 15}, \"zerolinecolor\": \"white\", \"zerolinewidth\": 2}, \"yaxis\": {\"automargin\": true, \"gridcolor\": \"white\", \"linecolor\": \"white\", \"ticks\": \"\", \"title\": {\"standoff\": 15}, \"zerolinecolor\": \"white\", \"zerolinewidth\": 2}}}, \"xaxis\": {\"anchor\": \"y\", \"domain\": [0.0, 1.0], \"title\": {\"text\": \"X\"}}, \"yaxis\": {\"anchor\": \"x\", \"domain\": [0.0, 1.0], \"title\": {\"text\": \"Y\"}}},\n",
              "                        {\"responsive\": true}\n",
              "                    ).then(function(){\n",
              "                            \n",
              "var gd = document.getElementById('6f88d8ed-1a56-4569-a98f-56d6433911df');\n",
              "var x = new MutationObserver(function (mutations, observer) {{\n",
              "        var display = window.getComputedStyle(gd).display;\n",
              "        if (!display || display === 'none') {{\n",
              "            console.log([gd, 'removed!']);\n",
              "            Plotly.purge(gd);\n",
              "            observer.disconnect();\n",
              "        }}\n",
              "}});\n",
              "\n",
              "// Listen for the removal of the full notebook cells\n",
              "var notebookContainer = gd.closest('#notebook-container');\n",
              "if (notebookContainer) {{\n",
              "    x.observe(notebookContainer, {childList: true});\n",
              "}}\n",
              "\n",
              "// Listen for the clearing of the current output cell\n",
              "var outputEl = gd.closest('.output');\n",
              "if (outputEl) {{\n",
              "    x.observe(outputEl, {childList: true});\n",
              "}}\n",
              "\n",
              "                        })\n",
              "                };\n",
              "                \n",
              "            </script>\n",
              "        </div>\n",
              "</body>\n",
              "</html>"
            ]
          },
          "metadata": {
            "tags": []
          }
        }
      ]
    },
    {
      "cell_type": "code",
      "metadata": {
        "id": "CmJhQqFSAthy",
        "colab_type": "code",
        "colab": {}
      },
      "source": [
        "user_position.to_csv('drive/My Drive/SpotifyDS/user_position.csv')"
      ],
      "execution_count": 119,
      "outputs": []
    },
    {
      "cell_type": "code",
      "metadata": {
        "id": "X33VGu3WbMc7",
        "colab_type": "code",
        "colab": {
          "base_uri": "https://localhost:8080/",
          "height": 297
        },
        "outputId": "64da1bae-3958-461a-8d02-502f88710913"
      },
      "source": [
        "user_position"
      ],
      "execution_count": 120,
      "outputs": [
        {
          "output_type": "execute_result",
          "data": {
            "text/html": [
              "<div>\n",
              "<style scoped>\n",
              "    .dataframe tbody tr th:only-of-type {\n",
              "        vertical-align: middle;\n",
              "    }\n",
              "\n",
              "    .dataframe tbody tr th {\n",
              "        vertical-align: top;\n",
              "    }\n",
              "\n",
              "    .dataframe thead th {\n",
              "        text-align: right;\n",
              "    }\n",
              "</style>\n",
              "<table border=\"1\" class=\"dataframe\">\n",
              "  <thead>\n",
              "    <tr style=\"text-align: right;\">\n",
              "      <th></th>\n",
              "      <th>User</th>\n",
              "      <th>X</th>\n",
              "      <th>Y</th>\n",
              "      <th>Pers</th>\n",
              "    </tr>\n",
              "  </thead>\n",
              "  <tbody>\n",
              "    <tr>\n",
              "      <th>0</th>\n",
              "      <td>Test</td>\n",
              "      <td>0.000000e+00</td>\n",
              "      <td>0.000000e+00</td>\n",
              "      <td>UNK</td>\n",
              "    </tr>\n",
              "    <tr>\n",
              "      <th>1</th>\n",
              "      <td>Mihir</td>\n",
              "      <td>-3.053113e-17</td>\n",
              "      <td>2.035409e-17</td>\n",
              "      <td>ENTJ</td>\n",
              "    </tr>\n",
              "    <tr>\n",
              "      <th>2</th>\n",
              "      <td>Yassine</td>\n",
              "      <td>-6.628938e-02</td>\n",
              "      <td>-2.470566e-01</td>\n",
              "      <td>INFJ</td>\n",
              "    </tr>\n",
              "    <tr>\n",
              "      <th>3</th>\n",
              "      <td>anya</td>\n",
              "      <td>-1.728095e-01</td>\n",
              "      <td>-2.087594e-01</td>\n",
              "      <td>ENFP</td>\n",
              "    </tr>\n",
              "    <tr>\n",
              "      <th>4</th>\n",
              "      <td>rhea</td>\n",
              "      <td>1.317379e-01</td>\n",
              "      <td>-1.989217e-01</td>\n",
              "      <td>ESFJ</td>\n",
              "    </tr>\n",
              "    <tr>\n",
              "      <th>5</th>\n",
              "      <td>Khushmeet</td>\n",
              "      <td>2.809389e-01</td>\n",
              "      <td>1.104892e-01</td>\n",
              "      <td>UNK</td>\n",
              "    </tr>\n",
              "    <tr>\n",
              "      <th>6</th>\n",
              "      <td>Anika</td>\n",
              "      <td>9.351143e-02</td>\n",
              "      <td>-4.850136e-02</td>\n",
              "      <td>ENFJ</td>\n",
              "    </tr>\n",
              "    <tr>\n",
              "      <th>7</th>\n",
              "      <td>Aanvi</td>\n",
              "      <td>-1.473057e-01</td>\n",
              "      <td>-2.234577e-01</td>\n",
              "      <td>ISFJ</td>\n",
              "    </tr>\n",
              "  </tbody>\n",
              "</table>\n",
              "</div>"
            ],
            "text/plain": [
              "        User             X             Y  Pers\n",
              "0       Test  0.000000e+00  0.000000e+00   UNK\n",
              "1      Mihir -3.053113e-17  2.035409e-17  ENTJ\n",
              "2    Yassine -6.628938e-02 -2.470566e-01  INFJ\n",
              "3       anya -1.728095e-01 -2.087594e-01  ENFP\n",
              "4       rhea  1.317379e-01 -1.989217e-01  ESFJ\n",
              "5  Khushmeet  2.809389e-01  1.104892e-01   UNK\n",
              "6      Anika  9.351143e-02 -4.850136e-02  ENFJ\n",
              "7      Aanvi -1.473057e-01 -2.234577e-01  ISFJ"
            ]
          },
          "metadata": {
            "tags": []
          },
          "execution_count": 120
        }
      ]
    },
    {
      "cell_type": "code",
      "metadata": {
        "id": "EiIC2zdpla0m",
        "colab_type": "code",
        "colab": {}
      },
      "source": [
        ""
      ],
      "execution_count": null,
      "outputs": []
    }
  ]
}